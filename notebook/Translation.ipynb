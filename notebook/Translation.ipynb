{
  "nbformat": 4,
  "nbformat_minor": 0,
  "metadata": {
    "colab": {
      "name": "Translation.ipynb",
      "provenance": [],
      "collapsed_sections": []
    },
    "kernelspec": {
      "display_name": "Python 3",
      "name": "python3"
    },
    "language_info": {
      "name": "python"
    },
    "accelerator": "GPU"
  },
  "cells": [
    {
      "cell_type": "markdown",
      "metadata": {
        "id": "cH09G6rkFmCf"
      },
      "source": [
        "# Импорты\n"
      ]
    },
    {
      "cell_type": "code",
      "metadata": {
        "id": "XIRymtJVI8WN"
      },
      "source": [
        "!pip3 install -U torchtext"
      ],
      "execution_count": null,
      "outputs": []
    },
    {
      "cell_type": "code",
      "metadata": {
        "id": "v24jdNKJ5PoY"
      },
      "source": [
        "import spacy\n",
        "import random\n",
        "import math\n",
        "import time\n",
        "import torch\n",
        "import torch.nn as nn\n",
        "\n",
        "\n",
        "from torch import optim\n",
        "from torchtext.legacy.data import Field, BucketIterator, TabularDataset"
      ],
      "execution_count": 2,
      "outputs": []
    },
    {
      "cell_type": "code",
      "metadata": {
        "id": "sOpUQhez5u_U"
      },
      "source": [
        "device = torch.device(\"cuda\" if torch.cuda.is_available() else \"cpu\")\n",
        "\n",
        "random.seed(0)\n",
        "torch.manual_seed(0)\n",
        "torch.cuda.manual_seed(0)\n",
        "torch.backends.cudnn.deterministic = True "
      ],
      "execution_count": 3,
      "outputs": []
    },
    {
      "cell_type": "markdown",
      "metadata": {
        "id": "kMrZ8c07u_zH"
      },
      "source": [
        "# Подготовка данных\n"
      ]
    },
    {
      "cell_type": "code",
      "metadata": {
        "id": "OLwJ2AJxJvje",
        "colab": {
          "base_uri": "https://localhost:8080/"
        },
        "outputId": "0c4ba6fd-3ee5-40d2-eb75-e1c1f26219ae"
      },
      "source": [
        "! python3 -m spacy download en_core_web_sm"
      ],
      "execution_count": 4,
      "outputs": [
        {
          "output_type": "stream",
          "text": [
            "Collecting en_core_web_sm==2.2.5\n",
            "  Downloading https://github.com/explosion/spacy-models/releases/download/en_core_web_sm-2.2.5/en_core_web_sm-2.2.5.tar.gz (12.0 MB)\n",
            "\u001b[K     |████████████████████████████████| 12.0 MB 8.5 MB/s \n",
            "\u001b[?25hRequirement already satisfied: spacy>=2.2.2 in /usr/local/lib/python3.7/dist-packages (from en_core_web_sm==2.2.5) (2.2.4)\n",
            "Requirement already satisfied: murmurhash<1.1.0,>=0.28.0 in /usr/local/lib/python3.7/dist-packages (from spacy>=2.2.2->en_core_web_sm==2.2.5) (1.0.5)\n",
            "Requirement already satisfied: preshed<3.1.0,>=3.0.2 in /usr/local/lib/python3.7/dist-packages (from spacy>=2.2.2->en_core_web_sm==2.2.5) (3.0.5)\n",
            "Requirement already satisfied: cymem<2.1.0,>=2.0.2 in /usr/local/lib/python3.7/dist-packages (from spacy>=2.2.2->en_core_web_sm==2.2.5) (2.0.5)\n",
            "Requirement already satisfied: plac<1.2.0,>=0.9.6 in /usr/local/lib/python3.7/dist-packages (from spacy>=2.2.2->en_core_web_sm==2.2.5) (1.1.3)\n",
            "Requirement already satisfied: wasabi<1.1.0,>=0.4.0 in /usr/local/lib/python3.7/dist-packages (from spacy>=2.2.2->en_core_web_sm==2.2.5) (0.8.2)\n",
            "Requirement already satisfied: requests<3.0.0,>=2.13.0 in /usr/local/lib/python3.7/dist-packages (from spacy>=2.2.2->en_core_web_sm==2.2.5) (2.23.0)\n",
            "Requirement already satisfied: tqdm<5.0.0,>=4.38.0 in /usr/local/lib/python3.7/dist-packages (from spacy>=2.2.2->en_core_web_sm==2.2.5) (4.41.1)\n",
            "Requirement already satisfied: srsly<1.1.0,>=1.0.2 in /usr/local/lib/python3.7/dist-packages (from spacy>=2.2.2->en_core_web_sm==2.2.5) (1.0.5)\n",
            "Requirement already satisfied: numpy>=1.15.0 in /usr/local/lib/python3.7/dist-packages (from spacy>=2.2.2->en_core_web_sm==2.2.5) (1.19.5)\n",
            "Requirement already satisfied: setuptools in /usr/local/lib/python3.7/dist-packages (from spacy>=2.2.2->en_core_web_sm==2.2.5) (57.2.0)\n",
            "Requirement already satisfied: catalogue<1.1.0,>=0.0.7 in /usr/local/lib/python3.7/dist-packages (from spacy>=2.2.2->en_core_web_sm==2.2.5) (1.0.0)\n",
            "Requirement already satisfied: thinc==7.4.0 in /usr/local/lib/python3.7/dist-packages (from spacy>=2.2.2->en_core_web_sm==2.2.5) (7.4.0)\n",
            "Requirement already satisfied: blis<0.5.0,>=0.4.0 in /usr/local/lib/python3.7/dist-packages (from spacy>=2.2.2->en_core_web_sm==2.2.5) (0.4.1)\n",
            "Requirement already satisfied: importlib-metadata>=0.20 in /usr/local/lib/python3.7/dist-packages (from catalogue<1.1.0,>=0.0.7->spacy>=2.2.2->en_core_web_sm==2.2.5) (4.6.1)\n",
            "Requirement already satisfied: zipp>=0.5 in /usr/local/lib/python3.7/dist-packages (from importlib-metadata>=0.20->catalogue<1.1.0,>=0.0.7->spacy>=2.2.2->en_core_web_sm==2.2.5) (3.5.0)\n",
            "Requirement already satisfied: typing-extensions>=3.6.4 in /usr/local/lib/python3.7/dist-packages (from importlib-metadata>=0.20->catalogue<1.1.0,>=0.0.7->spacy>=2.2.2->en_core_web_sm==2.2.5) (3.7.4.3)\n",
            "Requirement already satisfied: chardet<4,>=3.0.2 in /usr/local/lib/python3.7/dist-packages (from requests<3.0.0,>=2.13.0->spacy>=2.2.2->en_core_web_sm==2.2.5) (3.0.4)\n",
            "Requirement already satisfied: certifi>=2017.4.17 in /usr/local/lib/python3.7/dist-packages (from requests<3.0.0,>=2.13.0->spacy>=2.2.2->en_core_web_sm==2.2.5) (2021.5.30)\n",
            "Requirement already satisfied: idna<3,>=2.5 in /usr/local/lib/python3.7/dist-packages (from requests<3.0.0,>=2.13.0->spacy>=2.2.2->en_core_web_sm==2.2.5) (2.10)\n",
            "Requirement already satisfied: urllib3!=1.25.0,!=1.25.1,<1.26,>=1.21.1 in /usr/local/lib/python3.7/dist-packages (from requests<3.0.0,>=2.13.0->spacy>=2.2.2->en_core_web_sm==2.2.5) (1.24.3)\n",
            "\u001b[38;5;2m✔ Download and installation successful\u001b[0m\n",
            "You can now load the model via spacy.load('en_core_web_sm')\n"
          ],
          "name": "stdout"
        }
      ]
    },
    {
      "cell_type": "code",
      "metadata": {
        "id": "IoGlsR6BJnBR",
        "colab": {
          "base_uri": "https://localhost:8080/"
        },
        "outputId": "70698305-5179-43ea-ca3a-9f9b53385f7c"
      },
      "source": [
        "! python3 -m spacy download de_core_news_sm"
      ],
      "execution_count": 5,
      "outputs": [
        {
          "output_type": "stream",
          "text": [
            "Collecting de_core_news_sm==2.2.5\n",
            "  Downloading https://github.com/explosion/spacy-models/releases/download/de_core_news_sm-2.2.5/de_core_news_sm-2.2.5.tar.gz (14.9 MB)\n",
            "\u001b[K     |████████████████████████████████| 14.9 MB 6.9 MB/s \n",
            "\u001b[?25hRequirement already satisfied: spacy>=2.2.2 in /usr/local/lib/python3.7/dist-packages (from de_core_news_sm==2.2.5) (2.2.4)\n",
            "Requirement already satisfied: srsly<1.1.0,>=1.0.2 in /usr/local/lib/python3.7/dist-packages (from spacy>=2.2.2->de_core_news_sm==2.2.5) (1.0.5)\n",
            "Requirement already satisfied: murmurhash<1.1.0,>=0.28.0 in /usr/local/lib/python3.7/dist-packages (from spacy>=2.2.2->de_core_news_sm==2.2.5) (1.0.5)\n",
            "Requirement already satisfied: catalogue<1.1.0,>=0.0.7 in /usr/local/lib/python3.7/dist-packages (from spacy>=2.2.2->de_core_news_sm==2.2.5) (1.0.0)\n",
            "Requirement already satisfied: tqdm<5.0.0,>=4.38.0 in /usr/local/lib/python3.7/dist-packages (from spacy>=2.2.2->de_core_news_sm==2.2.5) (4.41.1)\n",
            "Requirement already satisfied: setuptools in /usr/local/lib/python3.7/dist-packages (from spacy>=2.2.2->de_core_news_sm==2.2.5) (57.2.0)\n",
            "Requirement already satisfied: requests<3.0.0,>=2.13.0 in /usr/local/lib/python3.7/dist-packages (from spacy>=2.2.2->de_core_news_sm==2.2.5) (2.23.0)\n",
            "Requirement already satisfied: cymem<2.1.0,>=2.0.2 in /usr/local/lib/python3.7/dist-packages (from spacy>=2.2.2->de_core_news_sm==2.2.5) (2.0.5)\n",
            "Requirement already satisfied: preshed<3.1.0,>=3.0.2 in /usr/local/lib/python3.7/dist-packages (from spacy>=2.2.2->de_core_news_sm==2.2.5) (3.0.5)\n",
            "Requirement already satisfied: numpy>=1.15.0 in /usr/local/lib/python3.7/dist-packages (from spacy>=2.2.2->de_core_news_sm==2.2.5) (1.19.5)\n",
            "Requirement already satisfied: wasabi<1.1.0,>=0.4.0 in /usr/local/lib/python3.7/dist-packages (from spacy>=2.2.2->de_core_news_sm==2.2.5) (0.8.2)\n",
            "Requirement already satisfied: blis<0.5.0,>=0.4.0 in /usr/local/lib/python3.7/dist-packages (from spacy>=2.2.2->de_core_news_sm==2.2.5) (0.4.1)\n",
            "Requirement already satisfied: plac<1.2.0,>=0.9.6 in /usr/local/lib/python3.7/dist-packages (from spacy>=2.2.2->de_core_news_sm==2.2.5) (1.1.3)\n",
            "Requirement already satisfied: thinc==7.4.0 in /usr/local/lib/python3.7/dist-packages (from spacy>=2.2.2->de_core_news_sm==2.2.5) (7.4.0)\n",
            "Requirement already satisfied: importlib-metadata>=0.20 in /usr/local/lib/python3.7/dist-packages (from catalogue<1.1.0,>=0.0.7->spacy>=2.2.2->de_core_news_sm==2.2.5) (4.6.1)\n",
            "Requirement already satisfied: zipp>=0.5 in /usr/local/lib/python3.7/dist-packages (from importlib-metadata>=0.20->catalogue<1.1.0,>=0.0.7->spacy>=2.2.2->de_core_news_sm==2.2.5) (3.5.0)\n",
            "Requirement already satisfied: typing-extensions>=3.6.4 in /usr/local/lib/python3.7/dist-packages (from importlib-metadata>=0.20->catalogue<1.1.0,>=0.0.7->spacy>=2.2.2->de_core_news_sm==2.2.5) (3.7.4.3)\n",
            "Requirement already satisfied: chardet<4,>=3.0.2 in /usr/local/lib/python3.7/dist-packages (from requests<3.0.0,>=2.13.0->spacy>=2.2.2->de_core_news_sm==2.2.5) (3.0.4)\n",
            "Requirement already satisfied: certifi>=2017.4.17 in /usr/local/lib/python3.7/dist-packages (from requests<3.0.0,>=2.13.0->spacy>=2.2.2->de_core_news_sm==2.2.5) (2021.5.30)\n",
            "Requirement already satisfied: urllib3!=1.25.0,!=1.25.1,<1.26,>=1.21.1 in /usr/local/lib/python3.7/dist-packages (from requests<3.0.0,>=2.13.0->spacy>=2.2.2->de_core_news_sm==2.2.5) (1.24.3)\n",
            "Requirement already satisfied: idna<3,>=2.5 in /usr/local/lib/python3.7/dist-packages (from requests<3.0.0,>=2.13.0->spacy>=2.2.2->de_core_news_sm==2.2.5) (2.10)\n",
            "Building wheels for collected packages: de-core-news-sm\n",
            "  Building wheel for de-core-news-sm (setup.py) ... \u001b[?25l\u001b[?25hdone\n",
            "  Created wheel for de-core-news-sm: filename=de_core_news_sm-2.2.5-py3-none-any.whl size=14907055 sha256=42572164a1dea09a0da1612869a99597b2e88302a54e99692bd8756257c50fd2\n",
            "  Stored in directory: /tmp/pip-ephem-wheel-cache-e6kaqgy2/wheels/00/66/69/cb6c921610087d2cab339062345098e30a5ceb665360e7b32a\n",
            "Successfully built de-core-news-sm\n",
            "Installing collected packages: de-core-news-sm\n",
            "Successfully installed de-core-news-sm-2.2.5\n",
            "\u001b[38;5;2m✔ Download and installation successful\u001b[0m\n",
            "You can now load the model via spacy.load('de_core_news_sm')\n"
          ],
          "name": "stdout"
        }
      ]
    },
    {
      "cell_type": "markdown",
      "metadata": {
        "id": "OXz0v4LoQDpt"
      },
      "source": [
        "На данном этапе создадим токенезаторы. Токенезаторы используются для преобразования исходной строки в список токенов(слов, n-грамм, символов).\n",
        ">Например, предложение ***На столе стоит кружка.*** преобразуется в следующий список: **['На', 'столе', 'стоит', 'кружка', '.']**\n",
        "\n",
        "\n"
      ]
    },
    {
      "cell_type": "code",
      "metadata": {
        "id": "oGd4wNyZMcar"
      },
      "source": [
        "import de_core_news_sm\n",
        "\n",
        "ENG_TOKENIZER = spacy.load('en_core_web_sm')\n",
        "DE_TOKENIZER = de_core_news_sm.load()"
      ],
      "execution_count": 6,
      "outputs": []
    },
    {
      "cell_type": "markdown",
      "metadata": {
        "id": "HSIbhtC4PiYf"
      },
      "source": [
        "Создадим функцию для токенизации предложений на конкретном языке. Функция будет принимать текст на определенном языке и возвращать предложения в виде списка токенов"
      ]
    },
    {
      "cell_type": "code",
      "metadata": {
        "id": "E_d8pv2eMnJt"
      },
      "source": [
        "def tokenize_text(text, tokenizer):\n",
        "    \"\"\"\n",
        "    Tokenize given text by using particular tokenizer\n",
        "    :param text: text in target or source language\n",
        "    :param tokenizer: tokenizer for language\n",
        "    :return: list of tokens\n",
        "    \"\"\"\n",
        "    return [token.text for token in tokenizer.tokenizer(text)]"
      ],
      "execution_count": 7,
      "outputs": []
    },
    {
      "cell_type": "markdown",
      "metadata": {
        "id": "cZFjGDKVRBZi"
      },
      "source": [
        "Объект класса `Field` определяет каким образом данные должны быть обработаны.\n",
        "\n"
      ]
    },
    {
      "cell_type": "code",
      "metadata": {
        "id": "nx-Voi4bNpNV"
      },
      "source": [
        "SOS_TOKEN = '<sos>'\n",
        "EOS_TOKEN = '<eos>'\n",
        "\n",
        "SRC_LANG = Field(tokenize=lambda text: tokenize_text(text, ENG_TOKENIZER),\n",
        "                  init_token=SOS_TOKEN,\n",
        "                  eos_token=EOS_TOKEN,\n",
        "                  lower=True)\n",
        "\n",
        "TRG_LANG = Field(tokenize=lambda text: tokenize_text(text, DE_TOKENIZER),\n",
        "                  init_token=SOS_TOKEN,\n",
        "                  eos_token=EOS_TOKEN,\n",
        "                  lower=True)"
      ],
      "execution_count": 8,
      "outputs": []
    },
    {
      "cell_type": "markdown",
      "metadata": {
        "id": "5bsSsjDsOOVF"
      },
      "source": [
        "На данном этапе скачаем паралельный корпус Английского-Немецкого языка и разобьем выборку на *train*, *test* и *validation* датасет. \n",
        "\n",
        "Датасет можно загрузить [тут](https://https://tatoeba.org/ru/downloads)\n"
      ]
    },
    {
      "cell_type": "code",
      "metadata": {
        "id": "vGMRH_n3ONey"
      },
      "source": [
        "data = TabularDataset('eng-de.tsv', format='tsv', fields=[('src', SRC_LANG), ('trg', TRG_LANG)])\n",
        "\n",
        "SRC_LANG.build_vocab(data, min_freq=2, max_size=4000)\n",
        "TRG_LANG.build_vocab(data, min_freq=2, max_size=4000)\n",
        "\n",
        "train_data, valid_data, test_data = data.split([0.6, 0.2, 0.2])"
      ],
      "execution_count": 9,
      "outputs": []
    },
    {
      "cell_type": "code",
      "metadata": {
        "colab": {
          "base_uri": "https://localhost:8080/"
        },
        "id": "d_a-zr_QRfUP",
        "outputId": "0261d6c2-0ef3-4786-e436-68ac496951e8"
      },
      "source": [
        "print(f\"Количество примеров в обучающей выборке: {len(train_data.examples)}\")\n",
        "print(f\"Количество примеров в валидационной выборке: {len(valid_data.examples)}\")\n",
        "print(f\"Количество примеров в тестовой выборке: {len(test_data.examples)}\")"
      ],
      "execution_count": 10,
      "outputs": [
        {
          "output_type": "stream",
          "text": [
            "Количество примеров в обучающей выборке: 30592\n",
            "Количество примеров в валидационной выборке: 10198\n",
            "Количество примеров в тестовой выборке: 10197\n"
          ],
          "name": "stdout"
        }
      ]
    },
    {
      "cell_type": "code",
      "metadata": {
        "colab": {
          "base_uri": "https://localhost:8080/"
        },
        "id": "QkiwJ16CTSsX",
        "outputId": "74a9eaec-55f2-46f0-90b4-0dc239678628"
      },
      "source": [
        "print(f\"Количество уникальных токенов для английского языка: {len(SRC_LANG.vocab)}\")\n",
        "print(f\"Количество уникальных токенов для немецкого языка: {len(TRG_LANG.vocab)}\")"
      ],
      "execution_count": 11,
      "outputs": [
        {
          "output_type": "stream",
          "text": [
            "Количество уникальных токенов для английского языка: 4004\n",
            "Количество уникальных токенов для немецкого языка: 4004\n"
          ],
          "name": "stdout"
        }
      ]
    },
    {
      "cell_type": "markdown",
      "metadata": {
        "id": "x_DHAd6OTvVV"
      },
      "source": [
        "Последний этап подготовки данных - создание итератора."
      ]
    },
    {
      "cell_type": "code",
      "metadata": {
        "id": "0nevLxxMT3K9"
      },
      "source": [
        "BATCH_SIZE = 128\n",
        "\n",
        "train_iterator, valid_iterator, test_iterator = BucketIterator.splits(\n",
        "    (train_data, valid_data, test_data),\n",
        "    batch_size = BATCH_SIZE,\n",
        "    device = device,\n",
        "    sort = False\n",
        ")"
      ],
      "execution_count": 12,
      "outputs": []
    },
    {
      "cell_type": "markdown",
      "metadata": {
        "id": "99P2DdwuLW-R"
      },
      "source": [
        "# Модель Seq2Seq"
      ]
    },
    {
      "cell_type": "markdown",
      "metadata": {
        "id": "6yPsixuZtlm1"
      },
      "source": [
        "## Encoder"
      ]
    },
    {
      "cell_type": "code",
      "metadata": {
        "id": "xFpdXDlOtkut"
      },
      "source": [
        "class Encoder(nn.Module):\n",
        "    def __init__(self, input_dim, emb_dim, hidden_dim, n_layers, dropout):\n",
        "        super(Encoder, self).__init__()\n",
        "\n",
        "        self.input_dim = input_dim\n",
        "        self.emb_dim = emb_dim\n",
        "        self.hidden_dim = hidden_dim\n",
        "        self.n_layers = n_layers\n",
        "\n",
        "        self.embedding = nn.Embedding(input_dim, emb_dim)\n",
        "        self.rnn = nn.GRU(emb_dim, hidden_dim, n_layers, dropout=dropout)\n",
        "        self.dropout = nn.Dropout(dropout)\n",
        "\n",
        "    def forward(self, src):\n",
        "        embedded = self.dropout(self.embedding(src))\n",
        "        encoder_states, hidden= self.rnn(embedded)\n",
        "\n",
        "        return encoder_states, hidden\n"
      ],
      "execution_count": 13,
      "outputs": []
    },
    {
      "cell_type": "markdown",
      "metadata": {
        "id": "7nBb0sPFts0f"
      },
      "source": [
        "## Decoder"
      ]
    },
    {
      "cell_type": "code",
      "metadata": {
        "id": "DQl6-HpvJ_Qk"
      },
      "source": [
        "class Decoder(nn.Module):\n",
        "    def __init__(self, output_dim, emb_dim, hidden_dim, n_layers, dropout):\n",
        "        super(Decoder, self).__init__()\n",
        "\n",
        "        self.output_dim = output_dim\n",
        "        self.emb_dim = emb_dim\n",
        "        self.hidden_dim = hidden_dim\n",
        "        self.n_layers = n_layers\n",
        "\n",
        "        self.embedding = nn.Embedding(output_dim, emb_dim)\n",
        "        self.rnn = nn.GRU(emb_dim, hidden_dim, n_layers, dropout=dropout)\n",
        "        self.out = nn.Linear(hidden_dim, output_dim)\n",
        "        self.dropout = nn.Dropout(dropout)\n",
        "\n",
        "    def forward(self, src, hidden, encoder_states):\n",
        "        src = src.unsqueeze(0)\n",
        "        embedded = self.dropout(self.embedding(src))\n",
        "        decoder_state, hidden = self.rnn(embedded, hidden)\n",
        "        prediction = self.out(decoder_state.squeeze(0))\n",
        "\n",
        "        return prediction, hidden\n"
      ],
      "execution_count": 14,
      "outputs": []
    },
    {
      "cell_type": "markdown",
      "metadata": {
        "id": "Tlt-GZOJwqBY"
      },
      "source": [
        "## Seq2Seq"
      ]
    },
    {
      "cell_type": "code",
      "metadata": {
        "id": "OntXyx44txc8"
      },
      "source": [
        "class Seq2Seq(nn.Module):\n",
        "    def __init__(self, encoder, decoder, device):\n",
        "        super(Seq2Seq, self).__init__()\n",
        "\n",
        "        self.encoder = encoder\n",
        "        self.decoder = decoder\n",
        "        self.device = device\n",
        "\n",
        "    def forward(self, src, trg, teacher_forcing_ration=0.5):\n",
        "        batch_size = trg.shape[1]\n",
        "        max_len = trg.shape[0]\n",
        "        trg_vocab_size = self.decoder.output_dim\n",
        "\n",
        "        outputs = torch.zeros(max_len, batch_size, trg_vocab_size).to(self.device)\n",
        "\n",
        "        encoder_states, hidden = self.encoder(src)\n",
        "\n",
        "        decoder_input = trg[0, :]  # <SOS> token\n",
        "\n",
        "        for i in range(1, max_len):\n",
        "            decoder_prediction, hidden = self.decoder(decoder_input, hidden, encoder_states)\n",
        "\n",
        "            outputs[i] = decoder_prediction\n",
        "            print(decoder_prediction.shape)\n",
        "            top1 = decoder_prediction.max(1)[1]\n",
        "\n",
        "            use_teacher_forcing = random.random() < teacher_forcing_ration\n",
        "            decoder_input = trg[i] if use_teacher_forcing else top1\n",
        "\n",
        "        return outputs"
      ],
      "execution_count": 41,
      "outputs": []
    },
    {
      "cell_type": "markdown",
      "metadata": {
        "id": "Au_IIfWtvMLL"
      },
      "source": [
        "## Обучение"
      ]
    },
    {
      "cell_type": "code",
      "metadata": {
        "id": "8VYTWn7Jw32u"
      },
      "source": [
        "INPUT_DIM = len(SRC_LANG.vocab)\n",
        "OUTPUT_DIM = len(TRG_LANG.vocab) \n",
        "N_LAYERS = 2\n",
        "EMB_DIM = 256\n",
        "HIDDEN_DIM = 512\n",
        "DROPOUT = 0.45\n",
        "\n",
        "encoder = Encoder(INPUT_DIM, EMB_DIM, HIDDEN_DIM, N_LAYERS, DROPOUT).to(device)\n",
        "decoder = Decoder(OUTPUT_DIM, EMB_DIM, HIDDEN_DIM, N_LAYERS, DROPOUT).to(device)\n",
        "\n",
        "model = Seq2Seq(encoder, decoder, device).to(device)"
      ],
      "execution_count": 42,
      "outputs": []
    },
    {
      "cell_type": "code",
      "metadata": {
        "id": "OibJfwk20oW1"
      },
      "source": [
        "optimizer = optim.Adam(model.parameters())"
      ],
      "execution_count": 43,
      "outputs": []
    },
    {
      "cell_type": "markdown",
      "metadata": {
        "id": "3U5L8ZRH00Mp"
      },
      "source": [
        "В качестве функции потерь будем использовать Кросс-Энтропию"
      ]
    },
    {
      "cell_type": "code",
      "metadata": {
        "id": "5XKIrWp-07rc"
      },
      "source": [
        "PAD_IDX = TRG_LANG.vocab.stoi['<pad>']\n",
        "\n",
        "criterion = nn.CrossEntropyLoss(ignore_index = PAD_IDX)"
      ],
      "execution_count": 44,
      "outputs": []
    },
    {
      "cell_type": "markdown",
      "metadata": {
        "id": "9nKUBfD21b-B"
      },
      "source": [
        "На данном этапе необходимо определить цикл обучения."
      ]
    },
    {
      "cell_type": "code",
      "metadata": {
        "id": "MeHqub0a1fyT"
      },
      "source": [
        "def train(model, iterator, optimizer, criterion, clip):\n",
        "  model.train()\n",
        "  \n",
        "  epoch_loss = 0\n",
        "\n",
        "  for i, batch in enumerate(iterator):\n",
        "\n",
        "    src = batch.src\n",
        "    trg = batch.trg\n",
        "\n",
        "    optimizer.zero_grad()\n",
        "\n",
        "    output = model(src, trg)\n",
        "\n",
        "    output = output[1:].view(-1, output.shape[-1])\n",
        "    trg = trg[1:].view(-1)\n",
        "\n",
        "    loss = criterion(output, trg)\n",
        "\n",
        "    loss.backward()\n",
        "\n",
        "    # Защита от взрыва градиента\n",
        "    torch.nn.utils.clip_grad_norm_(model.parameters(), clip)\n",
        "\n",
        "    optimizer.step()\n",
        "\n",
        "    epoch_loss += loss.item()\n",
        "\n",
        "  return epoch_loss / len(iterator)  "
      ],
      "execution_count": 45,
      "outputs": []
    },
    {
      "cell_type": "markdown",
      "metadata": {
        "id": "5fnOT21Tx5QI"
      },
      "source": [
        "Метод для оценки на валидационных данных"
      ]
    },
    {
      "cell_type": "code",
      "metadata": {
        "id": "o3qBSRII38SQ"
      },
      "source": [
        "def evaluate(model, iterator, criterion):\n",
        "  model.eval()\n",
        "  \n",
        "  epoch_loss = 0\n",
        "  history = []\n",
        "\n",
        "  with torch.no_grad():\n",
        "    for i, batch in enumerate(iterator):\n",
        "      src = batch.src\n",
        "      trg = batch.trg\n",
        "\n",
        "      output = model(src, trg, 0)\n",
        "\n",
        "      output = output[1:].view(-1, output.shape[-1])\n",
        "      trg = trg[1:].view(-1)\n",
        "\n",
        "      loss = criterion(output, trg)\n",
        "\n",
        "      epoch_loss += loss.item()\n",
        "  \n",
        "  return epoch_loss / len(iterator)"
      ],
      "execution_count": 46,
      "outputs": []
    },
    {
      "cell_type": "code",
      "metadata": {
        "id": "OPp7BVJg7qql"
      },
      "source": [
        "def translate_sentence(sentence, src_field, trg_field, model, device, max_len):\n",
        "  model.eval()\n",
        "\n",
        "  if isinstance(sentence, str):\n",
        "    tokens = [token.text.lower() for token in spacy_en(sentence)]\n",
        "  else:\n",
        "    tokens = [token.lower() for token in sentence]\n",
        "\n",
        "  tokens = [src_field.init_token] + tokens + [src_field.eos_token]\n",
        "\n",
        "  src_indecies = [src_field.vocab.stoi[token] for token in tokens]\n",
        "  src_tensor = torch.LongTensor(src_indecies).unsqueeze(1).to(device)\n",
        "  src_len = torch.LongTensor([len(src_indecies)]).to(device)\n",
        "\n",
        "  with torch.no_grad():\n",
        "    encoder_states, hidden = model.encoder(src_tensor)\n",
        "\n",
        "  trg_indecies = [trg_field.vocab.stoi[trg_field.init_token]]\n",
        "\n",
        "  for i in range(1, max_len):\n",
        "    trg_tensor = torch.LongTensor([trg_indecies[-1]]).to(device)\n",
        "  \n",
        "    output, hidden = model.decoder(trg_tensor, hidden, encoder_states)\n",
        "\n",
        "    pred_token = output.argmax(1).item()\n",
        "\n",
        "    trg_indecies.append(pred_token)\n",
        "\n",
        "    if pred_token == trg_field.vocab.stoi[trg_field.eos_token]:\n",
        "      break\n",
        "\n",
        "  \n",
        "  trg_tokens = [trg_field.vocab.itos[i] for i in trg_indecies]\n",
        "\n",
        "  return trg_tokens[1:]\n",
        "\n",
        "  "
      ],
      "execution_count": 47,
      "outputs": []
    },
    {
      "cell_type": "code",
      "metadata": {
        "id": "OwwGck0v-Uvc"
      },
      "source": [
        "import datetime\n",
        "N_EPOCHS = 30\n",
        "CLIP = 1\n",
        "\n",
        "best_valid_loss = float('inf')\n",
        "\n",
        "for epoch in range(N_EPOCHS):\n",
        "  start_time = time.time()\n",
        "\n",
        "  train_loss = train(model, train_iterator, optimizer, criterion, CLIP)\n",
        "  valid_loss = evaluate(model, valid_iterator, criterion)\n",
        "\n",
        "  end_time = time.time()\n",
        "\n",
        "  if valid_loss < best_valid_loss:\n",
        "    best_valid_loss = valid_loss\n",
        "    torch.save(model.state_dict(), 'model.pt')\n",
        "\n",
        "  diff = end_time - start_time\n",
        "  remaining_secs = (N_EPOCHS - epoch + 1) * diff\n",
        "  print(f\"Epoch: {epoch + 1} | Epoch time: {datetime.timedelta(seconds=diff)} | Remaining time: {datetime.timedelta(seconds=remaining_secs)}\")\n",
        "  print(f\"\\tTrain loss: {train_loss:.3f}\")\n",
        "  print(f\"\\tValid loss: {valid_loss:.3f}\")\n",
        "  print(\"----------------------------------------------------------------------\")\n",
        "\n"
      ],
      "execution_count": null,
      "outputs": []
    },
    {
      "cell_type": "code",
      "metadata": {
        "id": "JCB2kTw3AS4a"
      },
      "source": [
        "model.load_state_dict(torch.load('model.pt'))\n",
        "\n",
        "test_loss = evaluate(model, test_iterator, criterion)\n",
        "\n",
        "print(f\"Test loss: {test_loss:.3f}\")"
      ],
      "execution_count": null,
      "outputs": []
    },
    {
      "cell_type": "code",
      "metadata": {
        "id": "wuV7wYpdBcs-"
      },
      "source": [
        "import numpy as np\n",
        "\n",
        "def get_example():\n",
        "  example_idx = np.random.choice(np.arange(len(test_data)))\n",
        "  src = vars(train_data.examples[example_idx])['src']\n",
        "  trg = vars(train_data.examples[example_idx])['trg']\n",
        "\n",
        "  translation = translate_sentence(src, SRC_LANG, TRG_LANG, model, device, max_len = 50)\n",
        "\n",
        "  src_text  = \" \".join(src)\n",
        "  trg_text = \" \".join(trg)\n",
        "  prediction_text = \" \".join(translation[:-1])\n",
        "\n",
        "\n",
        "\n",
        "  print(f\"Source string: {src_text}\\n\")\n",
        "  print(f\"Target string: {trg_text}\\n\")\n",
        "  print(f\"Predicted string: {prediction_text}\")\n",
        "\n",
        "get_example()"
      ],
      "execution_count": null,
      "outputs": []
    },
    {
      "cell_type": "markdown",
      "metadata": {
        "id": "d6lGzuZXx_1_"
      },
      "source": [
        "Функция для подсчета [BLEU](https://en.wikipedia.org/wiki/BLEU)"
      ]
    },
    {
      "cell_type": "code",
      "metadata": {
        "id": "cU_zBlg0Wv_E"
      },
      "source": [
        "from torchtext.data.metrics import bleu_score\n",
        "\n",
        "def bleu(data, model, src_lang, trg_lang, device):\n",
        "  targets = []\n",
        "  outputs = []\n",
        "\n",
        "  for example in data:\n",
        "    src = vars(example)['src']\n",
        "    trg = vars(example)['trg']\n",
        "\n",
        "    prediction = translate_sentence(src, src_lang, trg_lang, model, device, max_len = 50)\n",
        "    prediction = prediction[:-1]\n",
        "\n",
        "    targets.append([trg])\n",
        "    outputs.append(prediction)\n",
        "\n",
        "  return bleu_score(outputs, targets)\n",
        "\n",
        "score = bleu(test_data, model, SRC_LANG, TRG_LANG, device)\n",
        "\n",
        "print(f\"BLEU score: {score * 100:.2f}\")"
      ],
      "execution_count": null,
      "outputs": []
    }
  ]
}